{
 "cells": [
  {
   "cell_type": "code",
   "execution_count": 59,
   "metadata": {
    "collapsed": false
   },
   "outputs": [],
   "source": [
    "import numpy as np\n",
    "import pandas as pd\n",
    "%matplotlib inline\n",
    "import matplotlib.pyplot as plt\n",
    "import seaborn as sns\n",
    "sns.set(font_scale=1)\n",
    "\n",
    "pd.options.display.mpl_style = 'default'"
   ]
  },
  {
   "cell_type": "code",
   "execution_count": 530,
   "metadata": {
    "collapsed": false
   },
   "outputs": [],
   "source": [
    "train = pd.read_csv(\"E:/Competition/Datafest/train.csv\")"
   ]
  },
  {
   "cell_type": "code",
   "execution_count": 531,
   "metadata": {
    "collapsed": true
   },
   "outputs": [],
   "source": [
    "test = pd.read_csv(\"E:/Competition/Datafest/test.csv\")"
   ]
  },
  {
   "cell_type": "code",
   "execution_count": 532,
   "metadata": {
    "collapsed": true
   },
   "outputs": [],
   "source": [
    "#feature based on compariosn of third moving average and fifth moving average\n",
    "def f35(row):\n",
    "    if row['Three_Day_Moving_Average'] == row['Five_Day_Moving_Average']:\n",
    "        val = 0\n",
    "    elif row['Three_Day_Moving_Average'] > row['Five_Day_Moving_Average']:\n",
    "        val = 1\n",
    "    else:\n",
    "        val = -1\n",
    "    return val"
   ]
  },
  {
   "cell_type": "code",
   "execution_count": 533,
   "metadata": {
    "collapsed": true
   },
   "outputs": [],
   "source": [
    "#feature based on compariosn of third moving average and tenth moving average\n",
    "def f310(row):\n",
    "    if row['Three_Day_Moving_Average'] == row['Ten_Day_Moving_Average']:\n",
    "        val = 0\n",
    "    elif row['Three_Day_Moving_Average'] > row['Ten_Day_Moving_Average']:\n",
    "        val = 1\n",
    "    else:\n",
    "        val = -1\n",
    "    return val"
   ]
  },
  {
   "cell_type": "code",
   "execution_count": 534,
   "metadata": {
    "collapsed": true
   },
   "outputs": [],
   "source": [
    "#feature based on compariosn of third moving average and twenty day moving average\n",
    "def f320(row):\n",
    "    if row['Three_Day_Moving_Average'] == row['Twenty_Day_Moving_Average']:\n",
    "        val = 0\n",
    "    elif row['Three_Day_Moving_Average'] > row['Twenty_Day_Moving_Average']:\n",
    "        val = 1\n",
    "    else:\n",
    "        val = -1\n",
    "    return val"
   ]
  },
  {
   "cell_type": "code",
   "execution_count": 535,
   "metadata": {
    "collapsed": true
   },
   "outputs": [],
   "source": [
    "#feature based on compariosn of Five_Day_Moving_Average and tenth moving average\n",
    "def f510(row):\n",
    "    if row['Five_Day_Moving_Average'] == row['Ten_Day_Moving_Average']:\n",
    "        val = 0\n",
    "    elif row['Five_Day_Moving_Average'] > row['Ten_Day_Moving_Average']:\n",
    "        val = 1\n",
    "    else:\n",
    "        val = -1\n",
    "    return val"
   ]
  },
  {
   "cell_type": "code",
   "execution_count": 536,
   "metadata": {
    "collapsed": true
   },
   "outputs": [],
   "source": [
    "#feature based on compariosn of Five_Day_Moving_Average and twenty moving average\n",
    "def f520(row):\n",
    "    if row['Five_Day_Moving_Average'] == row['Twenty_Day_Moving_Average']:\n",
    "        val = 0\n",
    "    elif row['Five_Day_Moving_Average'] > row['Twenty_Day_Moving_Average']:\n",
    "        val = 1\n",
    "    else:\n",
    "        val = -1\n",
    "    return val"
   ]
  },
  {
   "cell_type": "code",
   "execution_count": 537,
   "metadata": {
    "collapsed": true
   },
   "outputs": [],
   "source": [
    "#feature based on compariosn of Ten_Day_Moving_Average and twenty moving average\n",
    "def f1020(row):\n",
    "    if row['Ten_Day_Moving_Average'] == row['Twenty_Day_Moving_Average']:\n",
    "        val = 0\n",
    "    elif row['Ten_Day_Moving_Average'] > row['Twenty_Day_Moving_Average']:\n",
    "        val = 1\n",
    "    else:\n",
    "        val = -1\n",
    "    return val"
   ]
  },
  {
   "cell_type": "code",
   "execution_count": 538,
   "metadata": {
    "collapsed": false
   },
   "outputs": [],
   "source": [
    "train['Compare_3_5'] = train.apply(f35, axis=1)\n",
    "test['Compare_3_5'] = test.apply(f35, axis=1)"
   ]
  },
  {
   "cell_type": "code",
   "execution_count": 539,
   "metadata": {
    "collapsed": false
   },
   "outputs": [],
   "source": [
    "train['Compare_3_10'] = train.apply(f310, axis=1)\n",
    "test['Compare_3_10'] = test.apply(f310, axis=1)"
   ]
  },
  {
   "cell_type": "code",
   "execution_count": 540,
   "metadata": {
    "collapsed": true
   },
   "outputs": [],
   "source": [
    "train['Compare_3_20'] = train.apply(f320, axis=1)\n",
    "test['Compare_3_20'] = test.apply(f320, axis=1)"
   ]
  },
  {
   "cell_type": "code",
   "execution_count": 541,
   "metadata": {
    "collapsed": true
   },
   "outputs": [],
   "source": [
    "train['Compare_5_10'] = train.apply(f510, axis=1)\n",
    "test['Compare_5_10'] = test.apply(f510, axis=1)"
   ]
  },
  {
   "cell_type": "code",
   "execution_count": 542,
   "metadata": {
    "collapsed": true
   },
   "outputs": [],
   "source": [
    "train['Compare_5_20'] = train.apply(f520, axis=1)\n",
    "test['Compare_5_20'] = test.apply(f520, axis=1)"
   ]
  },
  {
   "cell_type": "code",
   "execution_count": 543,
   "metadata": {
    "collapsed": false
   },
   "outputs": [],
   "source": [
    "train['SUM_3'] = train['Compare_3_5']+train['Compare_3_10']+train['Compare_3_20']"
   ]
  },
  {
   "cell_type": "code",
   "execution_count": 544,
   "metadata": {
    "collapsed": true
   },
   "outputs": [],
   "source": [
    "test['SUM_3'] = test['Compare_3_5']+test['Compare_3_10']+test['Compare_3_20']"
   ]
  },
  {
   "cell_type": "code",
   "execution_count": 545,
   "metadata": {
    "collapsed": true
   },
   "outputs": [],
   "source": [
    "train['SUM_5'] = train['Compare_5_10']+train['Compare_5_20']\n",
    "test['SUM_5'] = test['Compare_5_10']+test['Compare_5_20']"
   ]
  },
  {
   "cell_type": "code",
   "execution_count": 421,
   "metadata": {
    "collapsed": true
   },
   "outputs": [],
   "source": [
    "#train['Compare_10_20'] = train.apply(f1020, axis=1)\n",
    "#test['Compare_10_20'] = test.apply(f1020, axis=1)"
   ]
  },
  {
   "cell_type": "code",
   "execution_count": 546,
   "metadata": {
    "collapsed": false
   },
   "outputs": [],
   "source": [
    "#dropping unnecessary columns\n",
    "train.drop(train.columns[[ 0,1, 2,4,5,6,7]], axis=1, inplace= True)"
   ]
  },
  {
   "cell_type": "code",
   "execution_count": 547,
   "metadata": {
    "collapsed": false
   },
   "outputs": [
    {
     "data": {
      "text/html": [
       "<div>\n",
       "<table border=\"1\" class=\"dataframe\">\n",
       "  <thead>\n",
       "    <tr style=\"text-align: right;\">\n",
       "      <th></th>\n",
       "      <th>Volume</th>\n",
       "      <th>True_Range</th>\n",
       "      <th>Average_True_Range</th>\n",
       "      <th>Positive_Directional_Movement</th>\n",
       "      <th>Negative_Directional_Movement</th>\n",
       "      <th>Outcome</th>\n",
       "      <th>Compare_3_5</th>\n",
       "      <th>Compare_3_10</th>\n",
       "      <th>Compare_3_20</th>\n",
       "      <th>Compare_5_10</th>\n",
       "      <th>Compare_5_20</th>\n",
       "      <th>SUM_3</th>\n",
       "      <th>SUM_5</th>\n",
       "    </tr>\n",
       "  </thead>\n",
       "  <tbody>\n",
       "    <tr>\n",
       "      <th>0</th>\n",
       "      <td>-0.33308</td>\n",
       "      <td>-0.21129</td>\n",
       "      <td>-0.38778</td>\n",
       "      <td>-0.39903</td>\n",
       "      <td>-0.14321</td>\n",
       "      <td>1</td>\n",
       "      <td>-1</td>\n",
       "      <td>-1</td>\n",
       "      <td>-1</td>\n",
       "      <td>-1</td>\n",
       "      <td>-1</td>\n",
       "      <td>-3</td>\n",
       "      <td>-2</td>\n",
       "    </tr>\n",
       "    <tr>\n",
       "      <th>1</th>\n",
       "      <td>-0.67096</td>\n",
       "      <td>-0.46476</td>\n",
       "      <td>0.97308</td>\n",
       "      <td>-0.31078</td>\n",
       "      <td>0.80286</td>\n",
       "      <td>0</td>\n",
       "      <td>-1</td>\n",
       "      <td>-1</td>\n",
       "      <td>-1</td>\n",
       "      <td>-1</td>\n",
       "      <td>-1</td>\n",
       "      <td>-3</td>\n",
       "      <td>-2</td>\n",
       "    </tr>\n",
       "    <tr>\n",
       "      <th>2</th>\n",
       "      <td>-0.22040</td>\n",
       "      <td>-0.51638</td>\n",
       "      <td>-0.52368</td>\n",
       "      <td>-0.24140</td>\n",
       "      <td>-0.31910</td>\n",
       "      <td>0</td>\n",
       "      <td>-1</td>\n",
       "      <td>-1</td>\n",
       "      <td>-1</td>\n",
       "      <td>-1</td>\n",
       "      <td>-1</td>\n",
       "      <td>-3</td>\n",
       "      <td>-2</td>\n",
       "    </tr>\n",
       "    <tr>\n",
       "      <th>3</th>\n",
       "      <td>-0.23118</td>\n",
       "      <td>-0.60816</td>\n",
       "      <td>-0.69311</td>\n",
       "      <td>-0.40673</td>\n",
       "      <td>-0.45965</td>\n",
       "      <td>0</td>\n",
       "      <td>-1</td>\n",
       "      <td>-1</td>\n",
       "      <td>-1</td>\n",
       "      <td>-1</td>\n",
       "      <td>-1</td>\n",
       "      <td>-3</td>\n",
       "      <td>-2</td>\n",
       "    </tr>\n",
       "    <tr>\n",
       "      <th>4</th>\n",
       "      <td>0.15076</td>\n",
       "      <td>-0.33206</td>\n",
       "      <td>-0.43690</td>\n",
       "      <td>-0.33347</td>\n",
       "      <td>0.29217</td>\n",
       "      <td>0</td>\n",
       "      <td>-1</td>\n",
       "      <td>-1</td>\n",
       "      <td>-1</td>\n",
       "      <td>-1</td>\n",
       "      <td>-1</td>\n",
       "      <td>-3</td>\n",
       "      <td>-2</td>\n",
       "    </tr>\n",
       "  </tbody>\n",
       "</table>\n",
       "</div>"
      ],
      "text/plain": [
       "    Volume  True_Range  Average_True_Range  Positive_Directional_Movement  \\\n",
       "0 -0.33308    -0.21129            -0.38778                       -0.39903   \n",
       "1 -0.67096    -0.46476             0.97308                       -0.31078   \n",
       "2 -0.22040    -0.51638            -0.52368                       -0.24140   \n",
       "3 -0.23118    -0.60816            -0.69311                       -0.40673   \n",
       "4  0.15076    -0.33206            -0.43690                       -0.33347   \n",
       "\n",
       "   Negative_Directional_Movement  Outcome  Compare_3_5  Compare_3_10  \\\n",
       "0                       -0.14321        1           -1            -1   \n",
       "1                        0.80286        0           -1            -1   \n",
       "2                       -0.31910        0           -1            -1   \n",
       "3                       -0.45965        0           -1            -1   \n",
       "4                        0.29217        0           -1            -1   \n",
       "\n",
       "   Compare_3_20  Compare_5_10  Compare_5_20  SUM_3  SUM_5  \n",
       "0            -1            -1            -1     -3     -2  \n",
       "1            -1            -1            -1     -3     -2  \n",
       "2            -1            -1            -1     -3     -2  \n",
       "3            -1            -1            -1     -3     -2  \n",
       "4            -1            -1            -1     -3     -2  "
      ]
     },
     "execution_count": 547,
     "metadata": {},
     "output_type": "execute_result"
    }
   ],
   "source": [
    "train.head()"
   ]
  },
  {
   "cell_type": "code",
   "execution_count": 449,
   "metadata": {
    "collapsed": false,
    "scrolled": true
   },
   "outputs": [],
   "source": [
    "#train.info()"
   ]
  },
  {
   "cell_type": "markdown",
   "metadata": {},
   "source": [
    "As we can clearly see there are null values, let us find out how many values are null"
   ]
  },
  {
   "cell_type": "code",
   "execution_count": 331,
   "metadata": {
    "collapsed": false
   },
   "outputs": [],
   "source": [
    "#train.isnull().sum()"
   ]
  },
  {
   "cell_type": "code",
   "execution_count": 330,
   "metadata": {
    "collapsed": false,
    "scrolled": true
   },
   "outputs": [],
   "source": [
    "#test.info()"
   ]
  },
  {
   "cell_type": "code",
   "execution_count": 329,
   "metadata": {
    "collapsed": false
   },
   "outputs": [],
   "source": [
    "#test.isnull().sum()"
   ]
  },
  {
   "cell_type": "markdown",
   "metadata": {},
   "source": [
    "Filling Null values in ATR with TR values"
   ]
  },
  {
   "cell_type": "code",
   "execution_count": 246,
   "metadata": {
    "collapsed": true
   },
   "outputs": [],
   "source": [
    "#train['Average_TR']= train['Average_True_Range']\n",
    "#test['Average_TR']= test['Average_True_Range']"
   ]
  },
  {
   "cell_type": "code",
   "execution_count": 247,
   "metadata": {
    "collapsed": true
   },
   "outputs": [],
   "source": [
    "#train.Average_TR.fillna(train.True_Range, inplace=True)\n",
    "#test.Average_TR.fillna(test.True_Range, inplace=True)"
   ]
  },
  {
   "cell_type": "code",
   "execution_count": 248,
   "metadata": {
    "collapsed": true
   },
   "outputs": [],
   "source": [
    "#train['PlusADX']= (train['Positive_Directional_Movement']/train['Average_TR'])\n",
    "#train['MinusADX']= (train['Negative_Directional_Movement']/train['Average_TR'])\n",
    "#test['PlusADX']= (test['Positive_Directional_Movement']/test['Average_TR'])\n",
    "#test['MinusADX']= (test['Negative_Directional_Movement']/test['Average_TR'])"
   ]
  },
  {
   "cell_type": "code",
   "execution_count": 249,
   "metadata": {
    "collapsed": true
   },
   "outputs": [],
   "source": [
    "#dropping fieds which were used to calculate plus and minus ADX\n",
    "#train.drop('Positive_Directional_Movement', axis=1, inplace = True)\n",
    "#train.drop('Average_TR', axis=1, inplace = True)\n",
    "#train.drop('Negative_Directional_Movement', axis=1, inplace = True)"
   ]
  },
  {
   "cell_type": "code",
   "execution_count": 250,
   "metadata": {
    "collapsed": true
   },
   "outputs": [],
   "source": [
    "#test.drop('Positive_Directional_Movement', axis=1, inplace = True)\n",
    "#test.drop('Average_TR', axis=1, inplace = True)\n",
    "#test.drop('Negative_Directional_Movement', axis=1, inplace = True)"
   ]
  },
  {
   "cell_type": "code",
   "execution_count": 548,
   "metadata": {
    "collapsed": false
   },
   "outputs": [],
   "source": [
    "x_train = train\n",
    "y_train = train['Outcome'].values"
   ]
  },
  {
   "cell_type": "code",
   "execution_count": 549,
   "metadata": {
    "collapsed": false
   },
   "outputs": [],
   "source": [
    "x_train.drop('Outcome', axis=1, inplace = True)"
   ]
  },
  {
   "cell_type": "code",
   "execution_count": 550,
   "metadata": {
    "collapsed": false,
    "scrolled": true
   },
   "outputs": [
    {
     "data": {
      "text/html": [
       "<div>\n",
       "<table border=\"1\" class=\"dataframe\">\n",
       "  <thead>\n",
       "    <tr style=\"text-align: right;\">\n",
       "      <th></th>\n",
       "      <th>Volume</th>\n",
       "      <th>True_Range</th>\n",
       "      <th>Average_True_Range</th>\n",
       "      <th>Positive_Directional_Movement</th>\n",
       "      <th>Negative_Directional_Movement</th>\n",
       "      <th>Compare_3_5</th>\n",
       "      <th>Compare_3_10</th>\n",
       "      <th>Compare_3_20</th>\n",
       "      <th>Compare_5_10</th>\n",
       "      <th>Compare_5_20</th>\n",
       "      <th>SUM_3</th>\n",
       "      <th>SUM_5</th>\n",
       "    </tr>\n",
       "  </thead>\n",
       "  <tbody>\n",
       "    <tr>\n",
       "      <th>0</th>\n",
       "      <td>-0.33308</td>\n",
       "      <td>-0.21129</td>\n",
       "      <td>-0.38778</td>\n",
       "      <td>-0.39903</td>\n",
       "      <td>-0.14321</td>\n",
       "      <td>-1</td>\n",
       "      <td>-1</td>\n",
       "      <td>-1</td>\n",
       "      <td>-1</td>\n",
       "      <td>-1</td>\n",
       "      <td>-3</td>\n",
       "      <td>-2</td>\n",
       "    </tr>\n",
       "    <tr>\n",
       "      <th>1</th>\n",
       "      <td>-0.67096</td>\n",
       "      <td>-0.46476</td>\n",
       "      <td>0.97308</td>\n",
       "      <td>-0.31078</td>\n",
       "      <td>0.80286</td>\n",
       "      <td>-1</td>\n",
       "      <td>-1</td>\n",
       "      <td>-1</td>\n",
       "      <td>-1</td>\n",
       "      <td>-1</td>\n",
       "      <td>-3</td>\n",
       "      <td>-2</td>\n",
       "    </tr>\n",
       "    <tr>\n",
       "      <th>2</th>\n",
       "      <td>-0.22040</td>\n",
       "      <td>-0.51638</td>\n",
       "      <td>-0.52368</td>\n",
       "      <td>-0.24140</td>\n",
       "      <td>-0.31910</td>\n",
       "      <td>-1</td>\n",
       "      <td>-1</td>\n",
       "      <td>-1</td>\n",
       "      <td>-1</td>\n",
       "      <td>-1</td>\n",
       "      <td>-3</td>\n",
       "      <td>-2</td>\n",
       "    </tr>\n",
       "    <tr>\n",
       "      <th>3</th>\n",
       "      <td>-0.23118</td>\n",
       "      <td>-0.60816</td>\n",
       "      <td>-0.69311</td>\n",
       "      <td>-0.40673</td>\n",
       "      <td>-0.45965</td>\n",
       "      <td>-1</td>\n",
       "      <td>-1</td>\n",
       "      <td>-1</td>\n",
       "      <td>-1</td>\n",
       "      <td>-1</td>\n",
       "      <td>-3</td>\n",
       "      <td>-2</td>\n",
       "    </tr>\n",
       "    <tr>\n",
       "      <th>4</th>\n",
       "      <td>0.15076</td>\n",
       "      <td>-0.33206</td>\n",
       "      <td>-0.43690</td>\n",
       "      <td>-0.33347</td>\n",
       "      <td>0.29217</td>\n",
       "      <td>-1</td>\n",
       "      <td>-1</td>\n",
       "      <td>-1</td>\n",
       "      <td>-1</td>\n",
       "      <td>-1</td>\n",
       "      <td>-3</td>\n",
       "      <td>-2</td>\n",
       "    </tr>\n",
       "  </tbody>\n",
       "</table>\n",
       "</div>"
      ],
      "text/plain": [
       "    Volume  True_Range  Average_True_Range  Positive_Directional_Movement  \\\n",
       "0 -0.33308    -0.21129            -0.38778                       -0.39903   \n",
       "1 -0.67096    -0.46476             0.97308                       -0.31078   \n",
       "2 -0.22040    -0.51638            -0.52368                       -0.24140   \n",
       "3 -0.23118    -0.60816            -0.69311                       -0.40673   \n",
       "4  0.15076    -0.33206            -0.43690                       -0.33347   \n",
       "\n",
       "   Negative_Directional_Movement  Compare_3_5  Compare_3_10  Compare_3_20  \\\n",
       "0                       -0.14321           -1            -1            -1   \n",
       "1                        0.80286           -1            -1            -1   \n",
       "2                       -0.31910           -1            -1            -1   \n",
       "3                       -0.45965           -1            -1            -1   \n",
       "4                        0.29217           -1            -1            -1   \n",
       "\n",
       "   Compare_5_10  Compare_5_20  SUM_3  SUM_5  \n",
       "0            -1            -1     -3     -2  \n",
       "1            -1            -1     -3     -2  \n",
       "2            -1            -1     -3     -2  \n",
       "3            -1            -1     -3     -2  \n",
       "4            -1            -1     -3     -2  "
      ]
     },
     "execution_count": 550,
     "metadata": {},
     "output_type": "execute_result"
    }
   ],
   "source": [
    "x_train.head()"
   ]
  },
  {
   "cell_type": "code",
   "execution_count": 453,
   "metadata": {
    "collapsed": false
   },
   "outputs": [],
   "source": [
    "#checking correlation plot\n",
    "\n",
    "#corr=train.corr()\n",
    "#plt.figure(figsize=(10, 10))\n",
    "\n",
    "#sns.heatmap(corr, vmax=1, square=True,annot=True,cmap='cubehelix')\n",
    "#plt.title('Correlation between features')"
   ]
  },
  {
   "cell_type": "code",
   "execution_count": 551,
   "metadata": {
    "collapsed": true
   },
   "outputs": [],
   "source": [
    "# Finally, we split some of the data off for validation\n",
    "\n",
    "from sklearn.cross_validation import train_test_split\n",
    "\n",
    "x_train, x_valid, y_train, y_valid = train_test_split(x_train, y_train, test_size=0.2, random_state=4242)"
   ]
  },
  {
   "cell_type": "code",
   "execution_count": 552,
   "metadata": {
    "collapsed": false
   },
   "outputs": [
    {
     "name": "stdout",
     "output_type": "stream",
     "text": [
      "[0]\ttrain-logloss:0.691049\tvalid-logloss:0.69115\n",
      "Multiple eval metrics have been passed: 'valid-logloss' will be used for early stopping.\n",
      "\n",
      "Will train until valid-logloss hasn't improved in 50 rounds.\n",
      "[10]\ttrain-logloss:0.682779\tvalid-logloss:0.683602\n",
      "[20]\ttrain-logloss:0.680914\tvalid-logloss:0.682199\n",
      "[30]\ttrain-logloss:0.680082\tvalid-logloss:0.681764\n",
      "[40]\ttrain-logloss:0.679499\tvalid-logloss:0.681485\n",
      "[50]\ttrain-logloss:0.679052\tvalid-logloss:0.681298\n",
      "[60]\ttrain-logloss:0.678641\tvalid-logloss:0.681176\n",
      "[70]\ttrain-logloss:0.67838\tvalid-logloss:0.681151\n",
      "[80]\ttrain-logloss:0.678052\tvalid-logloss:0.681099\n",
      "[90]\ttrain-logloss:0.677757\tvalid-logloss:0.68106\n",
      "[100]\ttrain-logloss:0.67744\tvalid-logloss:0.680992\n",
      "[110]\ttrain-logloss:0.677179\tvalid-logloss:0.680968\n",
      "[120]\ttrain-logloss:0.676915\tvalid-logloss:0.680946\n",
      "[130]\ttrain-logloss:0.676567\tvalid-logloss:0.680848\n",
      "[140]\ttrain-logloss:0.676396\tvalid-logloss:0.680855\n",
      "[150]\ttrain-logloss:0.67622\tvalid-logloss:0.680852\n",
      "[160]\ttrain-logloss:0.675998\tvalid-logloss:0.680853\n",
      "[170]\ttrain-logloss:0.675802\tvalid-logloss:0.680838\n",
      "[180]\ttrain-logloss:0.675591\tvalid-logloss:0.680852\n",
      "[190]\ttrain-logloss:0.675321\tvalid-logloss:0.680852\n",
      "[200]\ttrain-logloss:0.675018\tvalid-logloss:0.68079\n",
      "[210]\ttrain-logloss:0.674798\tvalid-logloss:0.680795\n",
      "[220]\ttrain-logloss:0.674598\tvalid-logloss:0.680783\n",
      "[230]\ttrain-logloss:0.674354\tvalid-logloss:0.680746\n",
      "[240]\ttrain-logloss:0.674064\tvalid-logloss:0.680699\n",
      "[250]\ttrain-logloss:0.673797\tvalid-logloss:0.68069\n",
      "[260]\ttrain-logloss:0.673587\tvalid-logloss:0.680692\n",
      "[270]\ttrain-logloss:0.673414\tvalid-logloss:0.68071\n",
      "[280]\ttrain-logloss:0.673225\tvalid-logloss:0.68074\n",
      "[290]\ttrain-logloss:0.673013\tvalid-logloss:0.680728\n",
      "Stopping. Best iteration:\n",
      "[245]\ttrain-logloss:0.673918\tvalid-logloss:0.680676\n",
      "\n"
     ]
    }
   ],
   "source": [
    "import xgboost as xgb\n",
    "\n",
    "# Set our parameters for xgboost\n",
    "params = {}\n",
    "params['objective'] = 'binary:logistic'\n",
    "params['eval_metric'] = 'logloss'\n",
    "params['eta'] = 0.11 #0.02\n",
    "params['max_depth'] = 5\n",
    "#params['subsample']=0.7\n",
    "#params['min_child_weight']=1\n",
    "#params['colsample_bytree']=0.7\n",
    "params['silent']=1\n",
    "#params['seed']=1632\n",
    "\n",
    "d_train = xgb.DMatrix(x_train, label=y_train)\n",
    "d_valid = xgb.DMatrix(x_valid, label=y_valid)\n",
    "\n",
    "watchlist = [(d_train, 'train'), (d_valid, 'valid')]\n",
    "\n",
    "bst = xgb.train(params, d_train, 1000, watchlist, early_stopping_rounds=50, verbose_eval=10)"
   ]
  },
  {
   "cell_type": "code",
   "execution_count": 553,
   "metadata": {
    "collapsed": false
   },
   "outputs": [],
   "source": [
    "test.head()\n",
    "df_test = pd.DataFrame()\n",
    "df_test['ID'] =  test['ID']"
   ]
  },
  {
   "cell_type": "code",
   "execution_count": 554,
   "metadata": {
    "collapsed": false
   },
   "outputs": [],
   "source": [
    "test.drop(test.columns[[  0,1, 2,4,5,6,7]], axis=1, inplace= True)"
   ]
  },
  {
   "cell_type": "code",
   "execution_count": 555,
   "metadata": {
    "collapsed": false,
    "scrolled": true
   },
   "outputs": [
    {
     "data": {
      "text/html": [
       "<div>\n",
       "<table border=\"1\" class=\"dataframe\">\n",
       "  <thead>\n",
       "    <tr style=\"text-align: right;\">\n",
       "      <th></th>\n",
       "      <th>Volume</th>\n",
       "      <th>True_Range</th>\n",
       "      <th>Average_True_Range</th>\n",
       "      <th>Positive_Directional_Movement</th>\n",
       "      <th>Negative_Directional_Movement</th>\n",
       "      <th>Compare_3_5</th>\n",
       "      <th>Compare_3_10</th>\n",
       "      <th>Compare_3_20</th>\n",
       "      <th>Compare_5_10</th>\n",
       "      <th>Compare_5_20</th>\n",
       "      <th>SUM_3</th>\n",
       "      <th>SUM_5</th>\n",
       "    </tr>\n",
       "  </thead>\n",
       "  <tbody>\n",
       "    <tr>\n",
       "      <th>0</th>\n",
       "      <td>0.43959</td>\n",
       "      <td>0.11595</td>\n",
       "      <td>0.17058</td>\n",
       "      <td>-0.39903</td>\n",
       "      <td>-0.33365</td>\n",
       "      <td>-1</td>\n",
       "      <td>-1</td>\n",
       "      <td>-1</td>\n",
       "      <td>-1</td>\n",
       "      <td>-1</td>\n",
       "      <td>-3</td>\n",
       "      <td>-2</td>\n",
       "    </tr>\n",
       "    <tr>\n",
       "      <th>1</th>\n",
       "      <td>-0.38494</td>\n",
       "      <td>-0.47816</td>\n",
       "      <td>-0.48696</td>\n",
       "      <td>-0.28545</td>\n",
       "      <td>-0.30166</td>\n",
       "      <td>1</td>\n",
       "      <td>-1</td>\n",
       "      <td>-1</td>\n",
       "      <td>-1</td>\n",
       "      <td>-1</td>\n",
       "      <td>-1</td>\n",
       "      <td>-2</td>\n",
       "    </tr>\n",
       "    <tr>\n",
       "      <th>2</th>\n",
       "      <td>1.38417</td>\n",
       "      <td>0.27538</td>\n",
       "      <td>0.86787</td>\n",
       "      <td>-0.31078</td>\n",
       "      <td>-0.43770</td>\n",
       "      <td>-1</td>\n",
       "      <td>-1</td>\n",
       "      <td>-1</td>\n",
       "      <td>-1</td>\n",
       "      <td>-1</td>\n",
       "      <td>-3</td>\n",
       "      <td>-2</td>\n",
       "    </tr>\n",
       "    <tr>\n",
       "      <th>3</th>\n",
       "      <td>-0.22040</td>\n",
       "      <td>-0.51638</td>\n",
       "      <td>0.04259</td>\n",
       "      <td>-0.24140</td>\n",
       "      <td>-0.31910</td>\n",
       "      <td>1</td>\n",
       "      <td>1</td>\n",
       "      <td>-1</td>\n",
       "      <td>1</td>\n",
       "      <td>-1</td>\n",
       "      <td>1</td>\n",
       "      <td>0</td>\n",
       "    </tr>\n",
       "    <tr>\n",
       "      <th>4</th>\n",
       "      <td>-0.21500</td>\n",
       "      <td>0.10491</td>\n",
       "      <td>-0.63238</td>\n",
       "      <td>-0.40673</td>\n",
       "      <td>-0.45965</td>\n",
       "      <td>1</td>\n",
       "      <td>-1</td>\n",
       "      <td>1</td>\n",
       "      <td>-1</td>\n",
       "      <td>-1</td>\n",
       "      <td>1</td>\n",
       "      <td>-2</td>\n",
       "    </tr>\n",
       "  </tbody>\n",
       "</table>\n",
       "</div>"
      ],
      "text/plain": [
       "    Volume  True_Range  Average_True_Range  Positive_Directional_Movement  \\\n",
       "0  0.43959     0.11595             0.17058                       -0.39903   \n",
       "1 -0.38494    -0.47816            -0.48696                       -0.28545   \n",
       "2  1.38417     0.27538             0.86787                       -0.31078   \n",
       "3 -0.22040    -0.51638             0.04259                       -0.24140   \n",
       "4 -0.21500     0.10491            -0.63238                       -0.40673   \n",
       "\n",
       "   Negative_Directional_Movement  Compare_3_5  Compare_3_10  Compare_3_20  \\\n",
       "0                       -0.33365           -1            -1            -1   \n",
       "1                       -0.30166            1            -1            -1   \n",
       "2                       -0.43770           -1            -1            -1   \n",
       "3                       -0.31910            1             1            -1   \n",
       "4                       -0.45965            1            -1             1   \n",
       "\n",
       "   Compare_5_10  Compare_5_20  SUM_3  SUM_5  \n",
       "0            -1            -1     -3     -2  \n",
       "1            -1            -1     -1     -2  \n",
       "2            -1            -1     -3     -2  \n",
       "3             1            -1      1      0  \n",
       "4            -1            -1      1     -2  "
      ]
     },
     "execution_count": 555,
     "metadata": {},
     "output_type": "execute_result"
    }
   ],
   "source": [
    "test.head()"
   ]
  },
  {
   "cell_type": "code",
   "execution_count": 556,
   "metadata": {
    "collapsed": false
   },
   "outputs": [],
   "source": [
    "d_test = xgb.DMatrix(test)\n",
    "p_test = bst.predict(d_test)"
   ]
  },
  {
   "cell_type": "code",
   "execution_count": 557,
   "metadata": {
    "collapsed": false
   },
   "outputs": [],
   "source": [
    "sub = pd.DataFrame()\n",
    "sub['ID'] = df_test['ID']\n",
    "sub['Outcome'] = p_test\n",
    "sub.to_csv('E:/Competition/Datafest/simple_xgb21.csv', index=False)"
   ]
  },
  {
   "cell_type": "code",
   "execution_count": null,
   "metadata": {
    "collapsed": true
   },
   "outputs": [],
   "source": []
  }
 ],
 "metadata": {
  "kernelspec": {
   "display_name": "Python 2",
   "language": "python",
   "name": "python2"
  },
  "language_info": {
   "codemirror_mode": {
    "name": "ipython",
    "version": 2
   },
   "file_extension": ".py",
   "mimetype": "text/x-python",
   "name": "python",
   "nbconvert_exporter": "python",
   "pygments_lexer": "ipython2",
   "version": "2.7.13"
  }
 },
 "nbformat": 4,
 "nbformat_minor": 2
}
