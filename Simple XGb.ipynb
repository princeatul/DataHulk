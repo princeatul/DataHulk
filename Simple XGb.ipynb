{
 "cells": [
  {
   "cell_type": "code",
   "execution_count": 1,
   "metadata": {
    "collapsed": true
   },
   "outputs": [],
   "source": [
    "import numpy as np\n",
    "import pandas as pd"
   ]
  },
  {
   "cell_type": "code",
   "execution_count": 21,
   "metadata": {
    "collapsed": false
   },
   "outputs": [],
   "source": [
    "train = pd.read_csv(\"E:/Competition/Datafest/train.csv\")"
   ]
  },
  {
   "cell_type": "code",
   "execution_count": 45,
   "metadata": {
    "collapsed": true
   },
   "outputs": [],
   "source": [
    "test = pd.read_csv(\"E:/Competition/Datafest/test.csv\")"
   ]
  },
  {
   "cell_type": "code",
   "execution_count": 24,
   "metadata": {
    "collapsed": false
   },
   "outputs": [
    {
     "data": {
      "text/html": [
       "<div>\n",
       "<table border=\"1\" class=\"dataframe\">\n",
       "  <thead>\n",
       "    <tr style=\"text-align: right;\">\n",
       "      <th></th>\n",
       "      <th>ID</th>\n",
       "      <th>Volume</th>\n",
       "      <th>Three_Day_Moving_Average</th>\n",
       "      <th>Five_Day_Moving_Average</th>\n",
       "      <th>Ten_Day_Moving_Average</th>\n",
       "      <th>Twenty_Day_Moving_Average</th>\n",
       "      <th>True_Range</th>\n",
       "      <th>Average_True_Range</th>\n",
       "      <th>Positive_Directional_Movement</th>\n",
       "      <th>Negative_Directional_Movement</th>\n",
       "      <th>Outcome</th>\n",
       "    </tr>\n",
       "  </thead>\n",
       "  <tbody>\n",
       "    <tr>\n",
       "      <th>0</th>\n",
       "      <td>1_1</td>\n",
       "      <td>-0.33308</td>\n",
       "      <td>-0.99681</td>\n",
       "      <td>-0.98736</td>\n",
       "      <td>-0.94728</td>\n",
       "      <td>-0.91977</td>\n",
       "      <td>-0.21129</td>\n",
       "      <td>-0.38778</td>\n",
       "      <td>-0.39903</td>\n",
       "      <td>-0.14321</td>\n",
       "      <td>1</td>\n",
       "    </tr>\n",
       "    <tr>\n",
       "      <th>1</th>\n",
       "      <td>3_1</td>\n",
       "      <td>-0.67096</td>\n",
       "      <td>-2.08895</td>\n",
       "      <td>-2.08251</td>\n",
       "      <td>-2.02183</td>\n",
       "      <td>-1.93779</td>\n",
       "      <td>-0.46476</td>\n",
       "      <td>0.97308</td>\n",
       "      <td>-0.31078</td>\n",
       "      <td>0.80286</td>\n",
       "      <td>0</td>\n",
       "    </tr>\n",
       "    <tr>\n",
       "      <th>2</th>\n",
       "      <td>4_1</td>\n",
       "      <td>-0.22040</td>\n",
       "      <td>1.07839</td>\n",
       "      <td>1.09143</td>\n",
       "      <td>1.18737</td>\n",
       "      <td>NaN</td>\n",
       "      <td>-0.51638</td>\n",
       "      <td>-0.52368</td>\n",
       "      <td>-0.24140</td>\n",
       "      <td>-0.31910</td>\n",
       "      <td>0</td>\n",
       "    </tr>\n",
       "    <tr>\n",
       "      <th>3</th>\n",
       "      <td>6_1</td>\n",
       "      <td>-0.23118</td>\n",
       "      <td>-0.55106</td>\n",
       "      <td>-0.53976</td>\n",
       "      <td>-0.47569</td>\n",
       "      <td>-0.42449</td>\n",
       "      <td>-0.60816</td>\n",
       "      <td>-0.69311</td>\n",
       "      <td>-0.40673</td>\n",
       "      <td>-0.45965</td>\n",
       "      <td>0</td>\n",
       "    </tr>\n",
       "    <tr>\n",
       "      <th>4</th>\n",
       "      <td>10_1</td>\n",
       "      <td>0.15076</td>\n",
       "      <td>-1.40937</td>\n",
       "      <td>-1.39805</td>\n",
       "      <td>-1.36756</td>\n",
       "      <td>-1.31365</td>\n",
       "      <td>-0.33206</td>\n",
       "      <td>-0.43690</td>\n",
       "      <td>-0.33347</td>\n",
       "      <td>0.29217</td>\n",
       "      <td>0</td>\n",
       "    </tr>\n",
       "  </tbody>\n",
       "</table>\n",
       "</div>"
      ],
      "text/plain": [
       "     ID   Volume  Three_Day_Moving_Average  Five_Day_Moving_Average  \\\n",
       "0   1_1 -0.33308                  -0.99681                 -0.98736   \n",
       "1   3_1 -0.67096                  -2.08895                 -2.08251   \n",
       "2   4_1 -0.22040                   1.07839                  1.09143   \n",
       "3   6_1 -0.23118                  -0.55106                 -0.53976   \n",
       "4  10_1  0.15076                  -1.40937                 -1.39805   \n",
       "\n",
       "   Ten_Day_Moving_Average  Twenty_Day_Moving_Average  True_Range  \\\n",
       "0                -0.94728                   -0.91977    -0.21129   \n",
       "1                -2.02183                   -1.93779    -0.46476   \n",
       "2                 1.18737                        NaN    -0.51638   \n",
       "3                -0.47569                   -0.42449    -0.60816   \n",
       "4                -1.36756                   -1.31365    -0.33206   \n",
       "\n",
       "   Average_True_Range  Positive_Directional_Movement  \\\n",
       "0            -0.38778                       -0.39903   \n",
       "1             0.97308                       -0.31078   \n",
       "2            -0.52368                       -0.24140   \n",
       "3            -0.69311                       -0.40673   \n",
       "4            -0.43690                       -0.33347   \n",
       "\n",
       "   Negative_Directional_Movement  Outcome  \n",
       "0                       -0.14321        1  \n",
       "1                        0.80286        0  \n",
       "2                       -0.31910        0  \n",
       "3                       -0.45965        0  \n",
       "4                        0.29217        0  "
      ]
     },
     "execution_count": 24,
     "metadata": {},
     "output_type": "execute_result"
    }
   ],
   "source": [
    "train.head()"
   ]
  },
  {
   "cell_type": "code",
   "execution_count": 23,
   "metadata": {
    "collapsed": false
   },
   "outputs": [],
   "source": [
    "train.drop(train.columns[[ 1, 2]], axis=1, inplace= True)"
   ]
  },
  {
   "cell_type": "code",
   "execution_count": 34,
   "metadata": {
    "collapsed": false
   },
   "outputs": [
    {
     "name": "stdout",
     "output_type": "stream",
     "text": [
      "<class 'pandas.core.frame.DataFrame'>\n",
      "RangeIndex: 101946 entries, 0 to 101945\n",
      "Data columns (total 12 columns):\n",
      "ID                               101946 non-null object\n",
      "timestamp                        101946 non-null int64\n",
      "Stock_ID                         101946 non-null int64\n",
      "Volume                           101946 non-null float64\n",
      "Three_Day_Moving_Average         101892 non-null float64\n",
      "Five_Day_Moving_Average          101819 non-null float64\n",
      "Ten_Day_Moving_Average           101666 non-null float64\n",
      "Twenty_Day_Moving_Average        101359 non-null float64\n",
      "True_Range                       101946 non-null float64\n",
      "Average_True_Range               101545 non-null float64\n",
      "Positive_Directional_Movement    101846 non-null float64\n",
      "Negative_Directional_Movement    101885 non-null float64\n",
      "dtypes: float64(9), int64(2), object(1)\n",
      "memory usage: 9.3+ MB\n"
     ]
    }
   ],
   "source": [
    "test.info()"
   ]
  },
  {
   "cell_type": "code",
   "execution_count": 28,
   "metadata": {
    "collapsed": false
   },
   "outputs": [
    {
     "data": {
      "text/html": [
       "<div>\n",
       "<table border=\"1\" class=\"dataframe\">\n",
       "  <thead>\n",
       "    <tr style=\"text-align: right;\">\n",
       "      <th></th>\n",
       "      <th>Volume</th>\n",
       "      <th>Three_Day_Moving_Average</th>\n",
       "      <th>Five_Day_Moving_Average</th>\n",
       "      <th>Ten_Day_Moving_Average</th>\n",
       "      <th>Twenty_Day_Moving_Average</th>\n",
       "      <th>True_Range</th>\n",
       "      <th>Average_True_Range</th>\n",
       "      <th>Positive_Directional_Movement</th>\n",
       "      <th>Negative_Directional_Movement</th>\n",
       "    </tr>\n",
       "  </thead>\n",
       "  <tbody>\n",
       "    <tr>\n",
       "      <th>0</th>\n",
       "      <td>-0.33308</td>\n",
       "      <td>-0.99681</td>\n",
       "      <td>-0.98736</td>\n",
       "      <td>-0.94728</td>\n",
       "      <td>-0.91977</td>\n",
       "      <td>-0.21129</td>\n",
       "      <td>-0.38778</td>\n",
       "      <td>-0.39903</td>\n",
       "      <td>-0.14321</td>\n",
       "    </tr>\n",
       "    <tr>\n",
       "      <th>1</th>\n",
       "      <td>-0.67096</td>\n",
       "      <td>-2.08895</td>\n",
       "      <td>-2.08251</td>\n",
       "      <td>-2.02183</td>\n",
       "      <td>-1.93779</td>\n",
       "      <td>-0.46476</td>\n",
       "      <td>0.97308</td>\n",
       "      <td>-0.31078</td>\n",
       "      <td>0.80286</td>\n",
       "    </tr>\n",
       "    <tr>\n",
       "      <th>2</th>\n",
       "      <td>-0.22040</td>\n",
       "      <td>1.07839</td>\n",
       "      <td>1.09143</td>\n",
       "      <td>1.18737</td>\n",
       "      <td>NaN</td>\n",
       "      <td>-0.51638</td>\n",
       "      <td>-0.52368</td>\n",
       "      <td>-0.24140</td>\n",
       "      <td>-0.31910</td>\n",
       "    </tr>\n",
       "    <tr>\n",
       "      <th>3</th>\n",
       "      <td>-0.23118</td>\n",
       "      <td>-0.55106</td>\n",
       "      <td>-0.53976</td>\n",
       "      <td>-0.47569</td>\n",
       "      <td>-0.42449</td>\n",
       "      <td>-0.60816</td>\n",
       "      <td>-0.69311</td>\n",
       "      <td>-0.40673</td>\n",
       "      <td>-0.45965</td>\n",
       "    </tr>\n",
       "    <tr>\n",
       "      <th>4</th>\n",
       "      <td>0.15076</td>\n",
       "      <td>-1.40937</td>\n",
       "      <td>-1.39805</td>\n",
       "      <td>-1.36756</td>\n",
       "      <td>-1.31365</td>\n",
       "      <td>-0.33206</td>\n",
       "      <td>-0.43690</td>\n",
       "      <td>-0.33347</td>\n",
       "      <td>0.29217</td>\n",
       "    </tr>\n",
       "  </tbody>\n",
       "</table>\n",
       "</div>"
      ],
      "text/plain": [
       "    Volume  Three_Day_Moving_Average  Five_Day_Moving_Average  \\\n",
       "0 -0.33308                  -0.99681                 -0.98736   \n",
       "1 -0.67096                  -2.08895                 -2.08251   \n",
       "2 -0.22040                   1.07839                  1.09143   \n",
       "3 -0.23118                  -0.55106                 -0.53976   \n",
       "4  0.15076                  -1.40937                 -1.39805   \n",
       "\n",
       "   Ten_Day_Moving_Average  Twenty_Day_Moving_Average  True_Range  \\\n",
       "0                -0.94728                   -0.91977    -0.21129   \n",
       "1                -2.02183                   -1.93779    -0.46476   \n",
       "2                 1.18737                        NaN    -0.51638   \n",
       "3                -0.47569                   -0.42449    -0.60816   \n",
       "4                -1.36756                   -1.31365    -0.33206   \n",
       "\n",
       "   Average_True_Range  Positive_Directional_Movement  \\\n",
       "0            -0.38778                       -0.39903   \n",
       "1             0.97308                       -0.31078   \n",
       "2            -0.52368                       -0.24140   \n",
       "3            -0.69311                       -0.40673   \n",
       "4            -0.43690                       -0.33347   \n",
       "\n",
       "   Negative_Directional_Movement  \n",
       "0                       -0.14321  \n",
       "1                        0.80286  \n",
       "2                       -0.31910  \n",
       "3                       -0.45965  \n",
       "4                        0.29217  "
      ]
     },
     "execution_count": 28,
     "metadata": {},
     "output_type": "execute_result"
    }
   ],
   "source": [
    "x_train.head()"
   ]
  },
  {
   "cell_type": "code",
   "execution_count": 25,
   "metadata": {
    "collapsed": false
   },
   "outputs": [],
   "source": [
    "x_train = train\n",
    "y_train = train['Outcome'].values"
   ]
  },
  {
   "cell_type": "code",
   "execution_count": 27,
   "metadata": {
    "collapsed": true
   },
   "outputs": [],
   "source": [
    "x_train.drop('Outcome', axis=1, inplace = True)\n",
    "x_train.drop('ID', axis=1, inplace = True)"
   ]
  },
  {
   "cell_type": "code",
   "execution_count": 29,
   "metadata": {
    "collapsed": false
   },
   "outputs": [
    {
     "data": {
      "text/html": [
       "<div>\n",
       "<table border=\"1\" class=\"dataframe\">\n",
       "  <thead>\n",
       "    <tr style=\"text-align: right;\">\n",
       "      <th></th>\n",
       "      <th>Volume</th>\n",
       "      <th>Three_Day_Moving_Average</th>\n",
       "      <th>Five_Day_Moving_Average</th>\n",
       "      <th>Ten_Day_Moving_Average</th>\n",
       "      <th>Twenty_Day_Moving_Average</th>\n",
       "      <th>True_Range</th>\n",
       "      <th>Average_True_Range</th>\n",
       "      <th>Positive_Directional_Movement</th>\n",
       "      <th>Negative_Directional_Movement</th>\n",
       "    </tr>\n",
       "  </thead>\n",
       "  <tbody>\n",
       "    <tr>\n",
       "      <th>0</th>\n",
       "      <td>-0.33308</td>\n",
       "      <td>-0.99681</td>\n",
       "      <td>-0.98736</td>\n",
       "      <td>-0.94728</td>\n",
       "      <td>-0.91977</td>\n",
       "      <td>-0.21129</td>\n",
       "      <td>-0.38778</td>\n",
       "      <td>-0.39903</td>\n",
       "      <td>-0.14321</td>\n",
       "    </tr>\n",
       "    <tr>\n",
       "      <th>1</th>\n",
       "      <td>-0.67096</td>\n",
       "      <td>-2.08895</td>\n",
       "      <td>-2.08251</td>\n",
       "      <td>-2.02183</td>\n",
       "      <td>-1.93779</td>\n",
       "      <td>-0.46476</td>\n",
       "      <td>0.97308</td>\n",
       "      <td>-0.31078</td>\n",
       "      <td>0.80286</td>\n",
       "    </tr>\n",
       "    <tr>\n",
       "      <th>2</th>\n",
       "      <td>-0.22040</td>\n",
       "      <td>1.07839</td>\n",
       "      <td>1.09143</td>\n",
       "      <td>1.18737</td>\n",
       "      <td>NaN</td>\n",
       "      <td>-0.51638</td>\n",
       "      <td>-0.52368</td>\n",
       "      <td>-0.24140</td>\n",
       "      <td>-0.31910</td>\n",
       "    </tr>\n",
       "    <tr>\n",
       "      <th>3</th>\n",
       "      <td>-0.23118</td>\n",
       "      <td>-0.55106</td>\n",
       "      <td>-0.53976</td>\n",
       "      <td>-0.47569</td>\n",
       "      <td>-0.42449</td>\n",
       "      <td>-0.60816</td>\n",
       "      <td>-0.69311</td>\n",
       "      <td>-0.40673</td>\n",
       "      <td>-0.45965</td>\n",
       "    </tr>\n",
       "    <tr>\n",
       "      <th>4</th>\n",
       "      <td>0.15076</td>\n",
       "      <td>-1.40937</td>\n",
       "      <td>-1.39805</td>\n",
       "      <td>-1.36756</td>\n",
       "      <td>-1.31365</td>\n",
       "      <td>-0.33206</td>\n",
       "      <td>-0.43690</td>\n",
       "      <td>-0.33347</td>\n",
       "      <td>0.29217</td>\n",
       "    </tr>\n",
       "  </tbody>\n",
       "</table>\n",
       "</div>"
      ],
      "text/plain": [
       "    Volume  Three_Day_Moving_Average  Five_Day_Moving_Average  \\\n",
       "0 -0.33308                  -0.99681                 -0.98736   \n",
       "1 -0.67096                  -2.08895                 -2.08251   \n",
       "2 -0.22040                   1.07839                  1.09143   \n",
       "3 -0.23118                  -0.55106                 -0.53976   \n",
       "4  0.15076                  -1.40937                 -1.39805   \n",
       "\n",
       "   Ten_Day_Moving_Average  Twenty_Day_Moving_Average  True_Range  \\\n",
       "0                -0.94728                   -0.91977    -0.21129   \n",
       "1                -2.02183                   -1.93779    -0.46476   \n",
       "2                 1.18737                        NaN    -0.51638   \n",
       "3                -0.47569                   -0.42449    -0.60816   \n",
       "4                -1.36756                   -1.31365    -0.33206   \n",
       "\n",
       "   Average_True_Range  Positive_Directional_Movement  \\\n",
       "0            -0.38778                       -0.39903   \n",
       "1             0.97308                       -0.31078   \n",
       "2            -0.52368                       -0.24140   \n",
       "3            -0.69311                       -0.40673   \n",
       "4            -0.43690                       -0.33347   \n",
       "\n",
       "   Negative_Directional_Movement  \n",
       "0                       -0.14321  \n",
       "1                        0.80286  \n",
       "2                       -0.31910  \n",
       "3                       -0.45965  \n",
       "4                        0.29217  "
      ]
     },
     "execution_count": 29,
     "metadata": {},
     "output_type": "execute_result"
    }
   ],
   "source": [
    "x_train.head()"
   ]
  },
  {
   "cell_type": "code",
   "execution_count": 30,
   "metadata": {
    "collapsed": true
   },
   "outputs": [],
   "source": [
    "# Finally, we split some of the data off for validation\n",
    "\n",
    "from sklearn.cross_validation import train_test_split\n",
    "\n",
    "x_train, x_valid, y_train, y_valid = train_test_split(x_train, y_train, test_size=0.2, random_state=4242)"
   ]
  },
  {
   "cell_type": "code",
   "execution_count": 31,
   "metadata": {
    "collapsed": false
   },
   "outputs": [
    {
     "name": "stdout",
     "output_type": "stream",
     "text": [
      "[0]\ttrain-logloss:0.690945\tvalid-logloss:0.691077\n",
      "Multiple eval metrics have been passed: 'valid-logloss' will be used for early stopping.\n",
      "\n",
      "Will train until valid-logloss hasn't improved in 50 rounds.\n",
      "[10]\ttrain-logloss:0.6822\tvalid-logloss:0.683193\n",
      "[20]\ttrain-logloss:0.680369\tvalid-logloss:0.681874\n",
      "[30]\ttrain-logloss:0.679525\tvalid-logloss:0.681456\n",
      "[40]\ttrain-logloss:0.679018\tvalid-logloss:0.681306\n",
      "[50]\ttrain-logloss:0.678585\tvalid-logloss:0.681209\n",
      "[60]\ttrain-logloss:0.678167\tvalid-logloss:0.681089\n",
      "[70]\ttrain-logloss:0.677838\tvalid-logloss:0.681\n",
      "[80]\ttrain-logloss:0.677593\tvalid-logloss:0.680972\n",
      "[90]\ttrain-logloss:0.677291\tvalid-logloss:0.680913\n",
      "[100]\ttrain-logloss:0.676936\tvalid-logloss:0.680847\n",
      "[110]\ttrain-logloss:0.676682\tvalid-logloss:0.680831\n",
      "[120]\ttrain-logloss:0.676475\tvalid-logloss:0.680845\n",
      "[130]\ttrain-logloss:0.676194\tvalid-logloss:0.680823\n",
      "[140]\ttrain-logloss:0.675983\tvalid-logloss:0.680818\n",
      "[150]\ttrain-logloss:0.675803\tvalid-logloss:0.680825\n",
      "[160]\ttrain-logloss:0.675566\tvalid-logloss:0.680822\n",
      "[170]\ttrain-logloss:0.675301\tvalid-logloss:0.680791\n",
      "[180]\ttrain-logloss:0.675154\tvalid-logloss:0.680799\n",
      "[190]\ttrain-logloss:0.674912\tvalid-logloss:0.680742\n",
      "[200]\ttrain-logloss:0.674649\tvalid-logloss:0.680712\n",
      "[210]\ttrain-logloss:0.674417\tvalid-logloss:0.680655\n",
      "[220]\ttrain-logloss:0.674188\tvalid-logloss:0.680663\n",
      "[230]\ttrain-logloss:0.674009\tvalid-logloss:0.680676\n",
      "[240]\ttrain-logloss:0.673763\tvalid-logloss:0.680673\n",
      "[250]\ttrain-logloss:0.673532\tvalid-logloss:0.68065\n",
      "[260]\ttrain-logloss:0.673297\tvalid-logloss:0.680646\n",
      "[270]\ttrain-logloss:0.673063\tvalid-logloss:0.680662\n",
      "[280]\ttrain-logloss:0.672803\tvalid-logloss:0.680637\n",
      "[290]\ttrain-logloss:0.672555\tvalid-logloss:0.680605\n",
      "[300]\ttrain-logloss:0.672262\tvalid-logloss:0.68061\n",
      "[310]\ttrain-logloss:0.672012\tvalid-logloss:0.680575\n",
      "[320]\ttrain-logloss:0.671767\tvalid-logloss:0.680556\n",
      "[330]\ttrain-logloss:0.671529\tvalid-logloss:0.680531\n",
      "[340]\ttrain-logloss:0.671312\tvalid-logloss:0.680499\n",
      "[350]\ttrain-logloss:0.670965\tvalid-logloss:0.680379\n",
      "[360]\ttrain-logloss:0.670711\tvalid-logloss:0.680383\n",
      "[370]\ttrain-logloss:0.670542\tvalid-logloss:0.680398\n",
      "[380]\ttrain-logloss:0.670358\tvalid-logloss:0.680414\n",
      "[390]\ttrain-logloss:0.670099\tvalid-logloss:0.680377\n",
      "[399]\ttrain-logloss:0.669873\tvalid-logloss:0.68036\n"
     ]
    }
   ],
   "source": [
    "import xgboost as xgb\n",
    "\n",
    "# Set our parameters for xgboost\n",
    "params = {}\n",
    "params['objective'] = 'binary:logistic'\n",
    "params['eval_metric'] = 'logloss'\n",
    "params['eta'] = 0.11 #0.02\n",
    "params['max_depth'] = 5\n",
    "#params['subsample']=0.7\n",
    "#params['min_child_weight']=1\n",
    "#params['colsample_bytree']=0.7\n",
    "params['silent']=1\n",
    "#params['seed']=1632\n",
    "\n",
    "d_train = xgb.DMatrix(x_train, label=y_train)\n",
    "d_valid = xgb.DMatrix(x_valid, label=y_valid)\n",
    "\n",
    "watchlist = [(d_train, 'train'), (d_valid, 'valid')]\n",
    "\n",
    "bst = xgb.train(params, d_train, 400, watchlist, early_stopping_rounds=50, verbose_eval=10)"
   ]
  },
  {
   "cell_type": "code",
   "execution_count": 46,
   "metadata": {
    "collapsed": false
   },
   "outputs": [],
   "source": [
    "test.head()\n",
    "df_test = pd.DataFrame()\n",
    "df_test['ID'] =  test['ID']"
   ]
  },
  {
   "cell_type": "code",
   "execution_count": 48,
   "metadata": {
    "collapsed": false
   },
   "outputs": [],
   "source": [
    "test.drop(test.columns[[ 0,1,2]], axis=1, inplace= True)"
   ]
  },
  {
   "cell_type": "code",
   "execution_count": 49,
   "metadata": {
    "collapsed": false
   },
   "outputs": [
    {
     "data": {
      "text/html": [
       "<div>\n",
       "<table border=\"1\" class=\"dataframe\">\n",
       "  <thead>\n",
       "    <tr style=\"text-align: right;\">\n",
       "      <th></th>\n",
       "      <th>Volume</th>\n",
       "      <th>Three_Day_Moving_Average</th>\n",
       "      <th>Five_Day_Moving_Average</th>\n",
       "      <th>Ten_Day_Moving_Average</th>\n",
       "      <th>Twenty_Day_Moving_Average</th>\n",
       "      <th>True_Range</th>\n",
       "      <th>Average_True_Range</th>\n",
       "      <th>Positive_Directional_Movement</th>\n",
       "      <th>Negative_Directional_Movement</th>\n",
       "    </tr>\n",
       "  </thead>\n",
       "  <tbody>\n",
       "    <tr>\n",
       "      <th>0</th>\n",
       "      <td>0.43959</td>\n",
       "      <td>-1.09885</td>\n",
       "      <td>-1.08146</td>\n",
       "      <td>-1.02367</td>\n",
       "      <td>-0.95527</td>\n",
       "      <td>0.11595</td>\n",
       "      <td>0.17058</td>\n",
       "      <td>-0.39903</td>\n",
       "      <td>-0.33365</td>\n",
       "    </tr>\n",
       "    <tr>\n",
       "      <th>1</th>\n",
       "      <td>-0.38494</td>\n",
       "      <td>-0.64131</td>\n",
       "      <td>-0.64340</td>\n",
       "      <td>-0.63477</td>\n",
       "      <td>-0.61062</td>\n",
       "      <td>-0.47816</td>\n",
       "      <td>-0.48696</td>\n",
       "      <td>-0.28545</td>\n",
       "      <td>-0.30166</td>\n",
       "    </tr>\n",
       "    <tr>\n",
       "      <th>2</th>\n",
       "      <td>1.38417</td>\n",
       "      <td>-0.53956</td>\n",
       "      <td>-0.46261</td>\n",
       "      <td>-0.22662</td>\n",
       "      <td>-0.15185</td>\n",
       "      <td>0.27538</td>\n",
       "      <td>0.86787</td>\n",
       "      <td>-0.31078</td>\n",
       "      <td>-0.43770</td>\n",
       "    </tr>\n",
       "    <tr>\n",
       "      <th>3</th>\n",
       "      <td>-0.22040</td>\n",
       "      <td>-1.64317</td>\n",
       "      <td>-1.66702</td>\n",
       "      <td>-1.66951</td>\n",
       "      <td>-1.58663</td>\n",
       "      <td>-0.51638</td>\n",
       "      <td>0.04259</td>\n",
       "      <td>-0.24140</td>\n",
       "      <td>-0.31910</td>\n",
       "    </tr>\n",
       "    <tr>\n",
       "      <th>4</th>\n",
       "      <td>-0.21500</td>\n",
       "      <td>0.14539</td>\n",
       "      <td>0.12088</td>\n",
       "      <td>0.15728</td>\n",
       "      <td>0.13933</td>\n",
       "      <td>0.10491</td>\n",
       "      <td>-0.63238</td>\n",
       "      <td>-0.40673</td>\n",
       "      <td>-0.45965</td>\n",
       "    </tr>\n",
       "  </tbody>\n",
       "</table>\n",
       "</div>"
      ],
      "text/plain": [
       "    Volume  Three_Day_Moving_Average  Five_Day_Moving_Average  \\\n",
       "0  0.43959                  -1.09885                 -1.08146   \n",
       "1 -0.38494                  -0.64131                 -0.64340   \n",
       "2  1.38417                  -0.53956                 -0.46261   \n",
       "3 -0.22040                  -1.64317                 -1.66702   \n",
       "4 -0.21500                   0.14539                  0.12088   \n",
       "\n",
       "   Ten_Day_Moving_Average  Twenty_Day_Moving_Average  True_Range  \\\n",
       "0                -1.02367                   -0.95527     0.11595   \n",
       "1                -0.63477                   -0.61062    -0.47816   \n",
       "2                -0.22662                   -0.15185     0.27538   \n",
       "3                -1.66951                   -1.58663    -0.51638   \n",
       "4                 0.15728                    0.13933     0.10491   \n",
       "\n",
       "   Average_True_Range  Positive_Directional_Movement  \\\n",
       "0             0.17058                       -0.39903   \n",
       "1            -0.48696                       -0.28545   \n",
       "2             0.86787                       -0.31078   \n",
       "3             0.04259                       -0.24140   \n",
       "4            -0.63238                       -0.40673   \n",
       "\n",
       "   Negative_Directional_Movement  \n",
       "0                       -0.33365  \n",
       "1                       -0.30166  \n",
       "2                       -0.43770  \n",
       "3                       -0.31910  \n",
       "4                       -0.45965  "
      ]
     },
     "execution_count": 49,
     "metadata": {},
     "output_type": "execute_result"
    }
   ],
   "source": [
    "test.head()"
   ]
  },
  {
   "cell_type": "code",
   "execution_count": 50,
   "metadata": {
    "collapsed": false
   },
   "outputs": [],
   "source": [
    "d_test = xgb.DMatrix(test)\n",
    "p_test = bst.predict(d_test)"
   ]
  },
  {
   "cell_type": "code",
   "execution_count": 51,
   "metadata": {
    "collapsed": true
   },
   "outputs": [],
   "source": [
    "sub = pd.DataFrame()\n",
    "sub['ID'] = df_test['ID']\n",
    "sub['Outcome'] = p_test\n",
    "sub.to_csv('E:/Competition/Datafest/simple_xgb.csv', index=False)"
   ]
  },
  {
   "cell_type": "code",
   "execution_count": null,
   "metadata": {
    "collapsed": true
   },
   "outputs": [],
   "source": []
  }
 ],
 "metadata": {
  "kernelspec": {
   "display_name": "Python 2",
   "language": "python",
   "name": "python2"
  },
  "language_info": {
   "codemirror_mode": {
    "name": "ipython",
    "version": 2
   },
   "file_extension": ".py",
   "mimetype": "text/x-python",
   "name": "python",
   "nbconvert_exporter": "python",
   "pygments_lexer": "ipython2",
   "version": "2.7.13"
  }
 },
 "nbformat": 4,
 "nbformat_minor": 2
}
